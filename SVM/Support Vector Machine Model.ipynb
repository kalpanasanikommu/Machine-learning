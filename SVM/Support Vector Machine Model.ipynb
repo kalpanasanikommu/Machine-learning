{
 "cells": [
  {
   "cell_type": "code",
   "execution_count": 3,
   "id": "35ccc72d",
   "metadata": {},
   "outputs": [],
   "source": [
    "# Load the libraries\n",
    "\n",
    "import os\n",
    "import numpy as np\n",
    "import pandas as pd\n",
    "import matplotlib.pyplot as plta\n",
    "import seaborn as sns\n",
    "import warnings\n",
    "warnings.filterwarnings('ignore')\n",
    "sns.set()\n",
    "%matplotlib inline\n",
    "\n",
    "from sklearn.svm import SVC\n",
    "\n",
    "from sklearn.metrics import confusion_matrix,classification_report,accuracy_score\n"
   ]
  },
  {
   "cell_type": "code",
   "execution_count": null,
   "id": "a4526f68",
   "metadata": {},
   "outputs": [],
   "source": [
    "### kernel = 'linear'    -----Hyperparameter\n",
    "\n",
    "svm_linear = SVC(kernel='linear')\n",
    "svm_linear.fit(x_train,y_train)"
   ]
  },
  {
   "cell_type": "code",
   "execution_count": null,
   "id": "e6c7b91f",
   "metadata": {},
   "outputs": [],
   "source": [
    "y_pred_train_linear = svm_linear.predict(x_train)\n",
    "y_pred_test_linear = svm_linear.predict(x_test)"
   ]
  },
  {
   "cell_type": "code",
   "execution_count": null,
   "id": "caf9bfb1",
   "metadata": {},
   "outputs": [],
   "source": [
    "print(\"Training accuracy:\",accurcy_score(y_train,y_pred_train_linear))\n",
    "print(\"Training accuracy:\",accurcy_score(y_test,y_pred_test_linear))"
   ]
  },
  {
   "cell_type": "code",
   "execution_count": null,
   "id": "10b35054",
   "metadata": {},
   "outputs": [],
   "source": []
  },
  {
   "cell_type": "code",
   "execution_count": null,
   "id": "ab0807b2",
   "metadata": {},
   "outputs": [],
   "source": []
  },
  {
   "cell_type": "code",
   "execution_count": null,
   "id": "31fd9df9",
   "metadata": {},
   "outputs": [],
   "source": []
  }
 ],
 "metadata": {
  "kernelspec": {
   "display_name": "Python 3 (ipykernel)",
   "language": "python",
   "name": "python3"
  },
  "language_info": {
   "codemirror_mode": {
    "name": "ipython",
    "version": 3
   },
   "file_extension": ".py",
   "mimetype": "text/x-python",
   "name": "python",
   "nbconvert_exporter": "python",
   "pygments_lexer": "ipython3",
   "version": "3.11.3"
  }
 },
 "nbformat": 4,
 "nbformat_minor": 5
}
