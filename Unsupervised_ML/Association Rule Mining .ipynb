{
 "cells": [
  {
   "cell_type": "code",
   "execution_count": 1,
   "id": "4e14429f",
   "metadata": {
    "id": "4e14429f"
   },
   "outputs": [],
   "source": [
    "import os\n",
    "import numpy as np\n",
    "import pandas as pd\n",
    "import matplotlib.pyplot as plt\n",
    "import seaborn as sns\n",
    "sns.set()\n",
    "%matplotlib inline\n",
    "import warnings\n",
    "warnings.filterwarnings('ignore')"
   ]
  },
  {
   "cell_type": "markdown",
   "id": "39126ef5",
   "metadata": {
    "id": "39126ef5"
   },
   "source": [
    "# Association Rule Mining"
   ]
  },
  {
   "cell_type": "code",
   "execution_count": 2,
   "id": "452da1e4",
   "metadata": {
    "id": "452da1e4",
    "outputId": "10643c39-b64c-4b7d-dafc-cc75ed8ea379"
   },
   "outputs": [
    {
     "ename": "SyntaxError",
     "evalue": "invalid syntax. Perhaps you forgot a comma? (3532362601.py, line 1)",
     "output_type": "error",
     "traceback": [
      "\u001b[1;36m  Cell \u001b[1;32mIn[2], line 1\u001b[1;36m\u001b[0m\n\u001b[1;33m    dataset = pd.read_csv(\"C:\\\\Users\\\\Hi\\\\Downloads\\\\Market_Basket_Optimisation.csv\" header=None)\u001b[0m\n\u001b[1;37m                          ^\u001b[0m\n\u001b[1;31mSyntaxError\u001b[0m\u001b[1;31m:\u001b[0m invalid syntax. Perhaps you forgot a comma?\n"
     ]
    }
   ],
   "source": [
    "dataset = pd.read_csv(\"C:\\\\Users\\\\Hi\\\\Downloads\\\\Market_Basket_Optimisation.csv\" header=None)\n",
    "dataset.head()"
   ]
  },
  {
   "cell_type": "code",
   "execution_count": null,
   "id": "5739548f",
   "metadata": {
    "id": "5739548f",
    "outputId": "2212f658-618f-4903-fd54-5efdb8e767f4"
   },
   "outputs": [],
   "source": [
    "dataset.info()"
   ]
  },
  {
   "cell_type": "code",
   "execution_count": null,
   "id": "426da44e",
   "metadata": {
    "id": "426da44e"
   },
   "outputs": [],
   "source": [
    "transaction  = []\n",
    "\n",
    "for i in range(0, 7501):\n",
    "    transaction.append([str(dataset.values[i, j]) for j in range(0,20)])"
   ]
  },
  {
   "cell_type": "code",
   "execution_count": null,
   "id": "218a4a9e",
   "metadata": {
    "id": "218a4a9e",
    "outputId": "5353bd9c-2da1-4730-b819-3e40f55d4c0c"
   },
   "outputs": [],
   "source": [
    "transaction"
   ]
  },
  {
   "cell_type": "markdown",
   "id": "73b876e5",
   "metadata": {
    "id": "73b876e5"
   },
   "source": [
    "# Building Association Rule Mining"
   ]
  },
  {
   "cell_type": "code",
   "execution_count": 3,
   "id": "51afc3b8",
   "metadata": {
    "id": "51afc3b8",
    "outputId": "66df2c22-1511-434c-9ee2-22c8776c4175"
   },
   "outputs": [
    {
     "name": "stdout",
     "output_type": "stream",
     "text": [
      "Defaulting to user installation because normal site-packages is not writeable\n",
      "Collecting apyori\n",
      "  Downloading apyori-1.1.2.tar.gz (8.6 kB)\n",
      "  Preparing metadata (setup.py): started\n",
      "  Preparing metadata (setup.py): finished with status 'done'\n",
      "Building wheels for collected packages: apyori\n",
      "  Building wheel for apyori (setup.py): started\n",
      "  Building wheel for apyori (setup.py): finished with status 'done'\n",
      "  Created wheel for apyori: filename=apyori-1.1.2-py3-none-any.whl size=5975 sha256=79ffb894ae1f52d7789ab4c8044b46f9b18af298f248492a3d5e784bff8bc757\n",
      "  Stored in directory: c:\\users\\hi\\appdata\\local\\pip\\cache\\wheels\\77\\3d\\a6\\d317a6fb32be58a602b1e8c6b5d6f31f79322da554cad2a5ea\n",
      "Successfully built apyori\n",
      "Installing collected packages: apyori\n",
      "Successfully installed apyori-1.1.2\n"
     ]
    },
    {
     "name": "stderr",
     "output_type": "stream",
     "text": [
      "  WARNING: The script apyori-run.exe is installed in 'C:\\Users\\Hi\\AppData\\Roaming\\Python\\Python311\\Scripts' which is not on PATH.\n",
      "  Consider adding this directory to PATH or, if you prefer to suppress this warning, use --no-warn-script-location.\n"
     ]
    }
   ],
   "source": [
    "!pip install apyori"
   ]
  },
  {
   "cell_type": "code",
   "execution_count": 4,
   "id": "cdf35b4c",
   "metadata": {
    "id": "cdf35b4c"
   },
   "outputs": [],
   "source": [
    "from apyori import apriori"
   ]
  },
  {
   "cell_type": "code",
   "execution_count": 5,
   "id": "8d1decdd",
   "metadata": {
    "id": "8d1decdd"
   },
   "outputs": [
    {
     "ename": "NameError",
     "evalue": "name 'transaction' is not defined",
     "output_type": "error",
     "traceback": [
      "\u001b[1;31m---------------------------------------------------------------------------\u001b[0m",
      "\u001b[1;31mNameError\u001b[0m                                 Traceback (most recent call last)",
      "Cell \u001b[1;32mIn[5], line 1\u001b[0m\n\u001b[1;32m----> 1\u001b[0m rules \u001b[38;5;241m=\u001b[39m apriori(transaction, min_support\u001b[38;5;241m=\u001b[39m\u001b[38;5;241m0.01\u001b[39m,min_confidence\u001b[38;5;241m=\u001b[39m\u001b[38;5;241m0.2\u001b[39m,min_lift\u001b[38;5;241m=\u001b[39m\u001b[38;5;241m2\u001b[39m,min_length\u001b[38;5;241m=\u001b[39m\u001b[38;5;241m2\u001b[39m)\n",
      "\u001b[1;31mNameError\u001b[0m: name 'transaction' is not defined"
     ]
    }
   ],
   "source": [
    "rules = apriori(transaction, min_support=0.01,min_confidence=0.2,min_lift=2,min_length=2)"
   ]
  },
  {
   "cell_type": "code",
   "execution_count": null,
   "id": "b1e98089",
   "metadata": {
    "id": "b1e98089"
   },
   "outputs": [],
   "source": [
    "results = list(rules)"
   ]
  },
  {
   "cell_type": "code",
   "execution_count": null,
   "id": "02b30ead",
   "metadata": {
    "id": "02b30ead",
    "outputId": "00f41c0b-51d9-47d4-d0e9-59fdfb355082"
   },
   "outputs": [],
   "source": [
    "results"
   ]
  },
  {
   "cell_type": "code",
   "execution_count": null,
   "id": "8a4dea35",
   "metadata": {
    "id": "8a4dea35"
   },
   "outputs": [],
   "source": []
  },
  {
   "cell_type": "code",
   "execution_count": 6,
   "id": "7f083507",
   "metadata": {
    "id": "7f083507"
   },
   "outputs": [
    {
     "ename": "NameError",
     "evalue": "name 'transaction' is not defined",
     "output_type": "error",
     "traceback": [
      "\u001b[1;31m---------------------------------------------------------------------------\u001b[0m",
      "\u001b[1;31mNameError\u001b[0m                                 Traceback (most recent call last)",
      "Cell \u001b[1;32mIn[6], line 1\u001b[0m\n\u001b[1;32m----> 1\u001b[0m rules \u001b[38;5;241m=\u001b[39m apriori(transaction, min_support\u001b[38;5;241m=\u001b[39m\u001b[38;5;241m0.05\u001b[39m,min_confidence\u001b[38;5;241m=\u001b[39m\u001b[38;5;241m0.3\u001b[39m,min_lift\u001b[38;5;241m=\u001b[39m\u001b[38;5;241m1.1\u001b[39m,min_length\u001b[38;5;241m=\u001b[39m\u001b[38;5;241m2\u001b[39m)\n",
      "\u001b[1;31mNameError\u001b[0m: name 'transaction' is not defined"
     ]
    }
   ],
   "source": [
    "rules = apriori(transaction, min_support=0.05,min_confidence=0.3,min_lift=1.1,min_length=2)"
   ]
  },
  {
   "cell_type": "code",
   "execution_count": null,
   "id": "91dbe2a8",
   "metadata": {
    "id": "91dbe2a8",
    "outputId": "f12ab719-61fa-4037-dd52-314f35b34801"
   },
   "outputs": [
    {
     "data": {
      "text/plain": [
       "[RelationRecord(items=frozenset({'mineral water', 'chocolate'}), support=0.05265964538061592, ordered_statistics=[OrderedStatistic(items_base=frozenset({'chocolate'}), items_add=frozenset({'mineral water'}), confidence=0.3213995117982099, lift=1.3483320682317521)]),\n",
       " RelationRecord(items=frozenset({'mineral water', 'spaghetti'}), support=0.05972536995067324, ordered_statistics=[OrderedStatistic(items_base=frozenset({'spaghetti'}), items_add=frozenset({'mineral water'}), confidence=0.3430321592649311, lift=1.4390851379453289)]),\n",
       " RelationRecord(items=frozenset({'mineral water', 'nan', 'chocolate'}), support=0.05265964538061592, ordered_statistics=[OrderedStatistic(items_base=frozenset({'chocolate'}), items_add=frozenset({'nan', 'mineral water'}), confidence=0.3213995117982099, lift=1.3490865909336163), OrderedStatistic(items_base=frozenset({'nan', 'chocolate'}), items_add=frozenset({'mineral water'}), confidence=0.3213995117982099, lift=1.3483320682317521)]),\n",
       " RelationRecord(items=frozenset({'nan', 'mineral water', 'spaghetti'}), support=0.05972536995067324, ordered_statistics=[OrderedStatistic(items_base=frozenset({'spaghetti'}), items_add=frozenset({'nan', 'mineral water'}), confidence=0.3430321592649311, lift=1.439890445800922), OrderedStatistic(items_base=frozenset({'nan', 'spaghetti'}), items_add=frozenset({'mineral water'}), confidence=0.3430321592649311, lift=1.4390851379453289)])]"
      ]
     },
     "execution_count": 54,
     "metadata": {},
     "output_type": "execute_result"
    }
   ],
   "source": [
    "results = list(rules)\n",
    "results"
   ]
  },
  {
   "cell_type": "code",
   "execution_count": null,
   "id": "e0bd3bff",
   "metadata": {
    "id": "e0bd3bff"
   },
   "outputs": [],
   "source": []
  },
  {
   "cell_type": "code",
   "execution_count": null,
   "id": "b5a13d01",
   "metadata": {
    "id": "b5a13d01"
   },
   "outputs": [],
   "source": []
  }
 ],
 "metadata": {
  "colab": {
   "provenance": []
  },
  "kernelspec": {
   "display_name": "Python 3 (ipykernel)",
   "language": "python",
   "name": "python3"
  },
  "language_info": {
   "codemirror_mode": {
    "name": "ipython",
    "version": 3
   },
   "file_extension": ".py",
   "mimetype": "text/x-python",
   "name": "python",
   "nbconvert_exporter": "python",
   "pygments_lexer": "ipython3",
   "version": "3.11.3"
  }
 },
 "nbformat": 4,
 "nbformat_minor": 5
}
